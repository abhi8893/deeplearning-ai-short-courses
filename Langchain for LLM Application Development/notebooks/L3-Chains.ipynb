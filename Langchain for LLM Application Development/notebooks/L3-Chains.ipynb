{
 "cells": [
  {
   "cell_type": "markdown",
   "id": "7ab179c0",
   "metadata": {
    "height": 30
   },
   "source": [
    "# Chains in LangChain\n",
    "\n",
    "- LLMChain\n",
    "- Sequential Chains\n",
    "    - SimpleSequentialChain\n",
    "    - SequentialChain\n",
    "- Router Chain"
   ]
  },
  {
   "cell_type": "code",
   "execution_count": 1,
   "id": "541eb2f1",
   "metadata": {
    "height": 47,
    "tags": []
   },
   "outputs": [],
   "source": [
    "import warnings\n",
    "warnings.filterwarnings('ignore')"
   ]
  },
  {
   "cell_type": "code",
   "execution_count": 2,
   "id": "b7ed03ed-1322-49e3-b2a2-33e94fb592ef",
   "metadata": {
    "height": 81,
    "tags": []
   },
   "outputs": [],
   "source": [
    "import os\n",
    "\n",
    "from dotenv import load_dotenv, find_dotenv\n",
    "_ = load_dotenv(find_dotenv()) # read local .env file"
   ]
  },
  {
   "cell_type": "markdown",
   "id": "9f3b61a3-92eb-4891-90ee-1d10607b05ad",
   "metadata": {},
   "source": [
    "Note: LLM's do not always produce the same results. When executing the code in your notebook, you may get slightly different answers that those in the video."
   ]
  },
  {
   "cell_type": "code",
   "execution_count": 3,
   "id": "4336d784-65c2-4a11-8489-b445b1fad177",
   "metadata": {
    "height": 234
   },
   "outputs": [],
   "source": [
    "# account for deprecation of LLM model\n",
    "import datetime\n",
    "# Get the current date\n",
    "current_date = datetime.datetime.now().date()\n",
    "\n",
    "# Define the date after which the model should be set to \"gpt-3.5-turbo\"\n",
    "target_date = datetime.date(2024, 6, 12)\n",
    "\n",
    "# Set the model variable based on the current date\n",
    "if current_date > target_date:\n",
    "    llm_model = \"gpt-3.5-turbo\"\n",
    "else:\n",
    "    llm_model = \"gpt-3.5-turbo-0301\""
   ]
  },
  {
   "cell_type": "code",
   "execution_count": 4,
   "id": "163d1b32",
   "metadata": {
    "height": 30
   },
   "outputs": [],
   "source": [
    "import pandas as pd"
   ]
  },
  {
   "cell_type": "code",
   "execution_count": 5,
   "id": "195fd2fc",
   "metadata": {
    "height": 47
   },
   "outputs": [
    {
     "data": {
      "text/html": [
       "<div>\n",
       "<style scoped>\n",
       "    .dataframe tbody tr th:only-of-type {\n",
       "        vertical-align: middle;\n",
       "    }\n",
       "\n",
       "    .dataframe tbody tr th {\n",
       "        vertical-align: top;\n",
       "    }\n",
       "\n",
       "    .dataframe thead th {\n",
       "        text-align: right;\n",
       "    }\n",
       "</style>\n",
       "<table border=\"1\" class=\"dataframe\">\n",
       "  <thead>\n",
       "    <tr style=\"text-align: right;\">\n",
       "      <th></th>\n",
       "      <th>Product</th>\n",
       "      <th>Review</th>\n",
       "    </tr>\n",
       "  </thead>\n",
       "  <tbody>\n",
       "    <tr>\n",
       "      <th>0</th>\n",
       "      <td>Queen Size Sheet Set</td>\n",
       "      <td>I ordered a king size set. My only criticism w...</td>\n",
       "    </tr>\n",
       "    <tr>\n",
       "      <th>1</th>\n",
       "      <td>Waterproof Phone Pouch</td>\n",
       "      <td>I loved the waterproof sac, although the openi...</td>\n",
       "    </tr>\n",
       "    <tr>\n",
       "      <th>2</th>\n",
       "      <td>Luxury Air Mattress</td>\n",
       "      <td>This mattress had a small hole in the top of i...</td>\n",
       "    </tr>\n",
       "    <tr>\n",
       "      <th>3</th>\n",
       "      <td>Pillows Insert</td>\n",
       "      <td>This is the best throw pillow fillers on Amazo...</td>\n",
       "    </tr>\n",
       "    <tr>\n",
       "      <th>4</th>\n",
       "      <td>Milk Frother Handheld\\n</td>\n",
       "      <td>I loved this product. But they only seem to l...</td>\n",
       "    </tr>\n",
       "  </tbody>\n",
       "</table>\n",
       "</div>"
      ],
      "text/plain": [
       "                   Product                                             Review\n",
       "0     Queen Size Sheet Set  I ordered a king size set. My only criticism w...\n",
       "1   Waterproof Phone Pouch  I loved the waterproof sac, although the openi...\n",
       "2      Luxury Air Mattress  This mattress had a small hole in the top of i...\n",
       "3           Pillows Insert  This is the best throw pillow fillers on Amazo...\n",
       "4  Milk Frother Handheld\\n   I loved this product. But they only seem to l..."
      ]
     },
     "execution_count": 5,
     "metadata": {},
     "output_type": "execute_result"
    }
   ],
   "source": [
    "df = pd.read_csv('../data/Data.csv')\n",
    "df.head()"
   ]
  },
  {
   "cell_type": "markdown",
   "id": "350b8515",
   "metadata": {},
   "source": [
    "## LLMChain"
   ]
  },
  {
   "cell_type": "code",
   "execution_count": 6,
   "id": "7ecb6107",
   "metadata": {
    "height": 64
   },
   "outputs": [],
   "source": [
    "from langchain.chat_models import ChatOpenAI\n",
    "from langchain.chains import LLMChain\n",
    "from langchain.prompts import ChatPromptTemplate"
   ]
  },
  {
   "cell_type": "code",
   "execution_count": 8,
   "id": "212ea50f",
   "metadata": {
    "height": 64
   },
   "outputs": [],
   "source": [
    "prompt = ChatPromptTemplate.from_template(\n",
    "    \"What is a good name to describe \\\n",
    "    a company that makes {product}?\"\n",
    ")"
   ]
  },
  {
   "cell_type": "code",
   "execution_count": 9,
   "id": "776ca44d",
   "metadata": {
    "height": 47
   },
   "outputs": [],
   "source": [
    "llm = ChatOpenAI(model=llm_model, temperature=0.7)\n",
    "chain = LLMChain(llm=llm, prompt=prompt)\n"
   ]
  },
  {
   "cell_type": "code",
   "execution_count": 10,
   "id": "13419a52",
   "metadata": {
    "height": 30
   },
   "outputs": [
    {
     "data": {
      "text/plain": [
       "'Sony Interactive Entertainment.'"
      ]
     },
     "execution_count": 10,
     "metadata": {},
     "output_type": "execute_result"
    }
   ],
   "source": [
    "chain.run(product=\"Playstation 5\")"
   ]
  },
  {
   "cell_type": "code",
   "execution_count": 13,
   "id": "8e13a497",
   "metadata": {
    "height": 30
   },
   "outputs": [
    {
     "data": {
      "text/plain": [
       "'ChocoJelly Co.'"
      ]
     },
     "execution_count": 13,
     "metadata": {},
     "output_type": "execute_result"
    }
   ],
   "source": [
    "chain.run(\"Chocolate Jelly Beans\")"
   ]
  },
  {
   "cell_type": "markdown",
   "id": "8063ea82",
   "metadata": {},
   "source": [
    "## SimpleSequentialChain"
   ]
  },
  {
   "cell_type": "code",
   "execution_count": 16,
   "id": "8060a299",
   "metadata": {
    "height": 30
   },
   "outputs": [],
   "source": [
    "from langchain.chains import LLMChain, SimpleSequentialChain"
   ]
  },
  {
   "cell_type": "code",
   "execution_count": 15,
   "id": "aaa4e97a",
   "metadata": {
    "height": 47
   },
   "outputs": [],
   "source": [
    "llm = ChatOpenAI(model=llm_model, temperature=0.7)\n"
   ]
  },
  {
   "cell_type": "code",
   "execution_count": 33,
   "id": "c7ea6eb9",
   "metadata": {
    "height": 251
   },
   "outputs": [],
   "source": [
    "first_prompt = ChatPromptTemplate.from_template(\n",
    "    \"What is a good name to describe \\\n",
    "    a company which makes {product}\"\n",
    ")\n",
    "\n",
    "first_chain = LLMChain(llm=llm, prompt=first_prompt)\n",
    "\n",
    "second_prompt = ChatPromptTemplate.from_template(\n",
    "    \"\"\"Write a 20 word description for the following \\\n",
    "    company: {company_name}\n",
    "    \"\"\"\n",
    ")\n",
    "\n",
    "second_chain = LLMChain(llm=llm, prompt=second_prompt)"
   ]
  },
  {
   "cell_type": "code",
   "execution_count": 34,
   "id": "ef5de5c3",
   "metadata": {
    "height": 64
   },
   "outputs": [],
   "source": [
    "overall_chain = SimpleSequentialChain(\n",
    "    chains=[first_chain, second_chain]\n",
    ")"
   ]
  },
  {
   "cell_type": "code",
   "execution_count": 38,
   "id": "322689bc",
   "metadata": {
    "height": 30
   },
   "outputs": [
    {
     "data": {
      "text/plain": [
       "'\"Leading video game company, producing popular titles for the PlayStation console and providing immersive gaming experiences for players worldwide.\"'"
      ]
     },
     "execution_count": 38,
     "metadata": {},
     "output_type": "execute_result"
    }
   ],
   "source": [
    "overall_chain.run(\"Playstation\")"
   ]
  },
  {
   "cell_type": "markdown",
   "id": "3f141b48",
   "metadata": {},
   "source": [
    "## SequentialChain"
   ]
  },
  {
   "cell_type": "code",
   "execution_count": 43,
   "id": "a3db35a0",
   "metadata": {
    "height": 30
   },
   "outputs": [],
   "source": [
    "from langchain.chains import LLMChain, SequentialChain"
   ]
  },
  {
   "cell_type": "code",
   "execution_count": 40,
   "id": "d70876ec",
   "metadata": {
    "height": 30
   },
   "outputs": [],
   "source": [
    "llm = ChatOpenAI(model=llm_model, temperature=0.7)"
   ]
  },
  {
   "cell_type": "code",
   "execution_count": 48,
   "id": "bb77f45f",
   "metadata": {
    "height": 115
   },
   "outputs": [],
   "source": [
    "first_prompt = ChatPromptTemplate.from_template(\"\"\"\n",
    "Translate the following review into English\n",
    "{review}\n",
    "\"\"\")\n",
    "\n",
    "first_chain = LLMChain(llm=llm, prompt=first_prompt, output_key=\"english_review\")"
   ]
  },
  {
   "cell_type": "code",
   "execution_count": 49,
   "id": "0f762685",
   "metadata": {
    "height": 115
   },
   "outputs": [],
   "source": [
    "second_prompt = ChatPromptTemplate.from_template(\"\"\"\n",
    "Summarize the following review:\n",
    "{english_review}\n",
    "\"\"\"\n",
    ")\n",
    "second_chain = LLMChain(llm=llm, prompt=second_prompt, output_key=\"summary\")"
   ]
  },
  {
   "cell_type": "code",
   "execution_count": 50,
   "id": "19a17a8a",
   "metadata": {
    "height": 132
   },
   "outputs": [],
   "source": [
    "third_prompt = ChatPromptTemplate.from_template(\"\"\"\n",
    "Identify the language in the following review:\n",
    "{review}\n",
    "\"\"\")\n",
    "\n",
    "third_chain = LLMChain(llm=llm, prompt=third_prompt, output_key=\"language\")\n"
   ]
  },
  {
   "cell_type": "code",
   "execution_count": 53,
   "id": "287969a3",
   "metadata": {
    "height": 149
   },
   "outputs": [],
   "source": [
    "fourth_prompt = ChatPromptTemplate.from_template(\"\"\"\n",
    "Write a followup response to the following:\n",
    "\n",
    "review: {review} in language: {language}\n",
    "\"\"\"\n",
    ")\n",
    "\n",
    "fourth_chain = LLMChain(llm=llm, prompt=fourth_prompt, output_key=\"followup_response\")"
   ]
  },
  {
   "cell_type": "code",
   "execution_count": 54,
   "id": "23f9d9bc",
   "metadata": {
    "height": 98
   },
   "outputs": [],
   "source": [
    "final_chain = SequentialChain(\n",
    "    chains=[first_chain, second_chain, third_chain, fourth_chain],\n",
    "    input_variables=[\"review\"],\n",
    "    output_variables=[\"english_review\", \"language\", \"summary\", \"followup_response\"]\n",
    ")"
   ]
  },
  {
   "cell_type": "code",
   "execution_count": 57,
   "id": "90a85a0e",
   "metadata": {
    "height": 64
   },
   "outputs": [],
   "source": [
    "review = df.Review[5]\n",
    "response = final_chain(review)\n"
   ]
  },
  {
   "cell_type": "code",
   "execution_count": 58,
   "id": "bfacb709",
   "metadata": {
    "height": 30
   },
   "outputs": [
    {
     "data": {
      "text/plain": [
       "dict_keys(['review', 'english_review', 'language', 'summary', 'followup_response'])"
      ]
     },
     "execution_count": 58,
     "metadata": {},
     "output_type": "execute_result"
    }
   ],
   "source": [
    "response.keys()"
   ]
  },
  {
   "cell_type": "code",
   "execution_count": 60,
   "id": "51922529",
   "metadata": {
    "height": 30
   },
   "outputs": [
    {
     "data": {
      "text/html": [
       "<div>\n",
       "<style scoped>\n",
       "    .dataframe tbody tr th:only-of-type {\n",
       "        vertical-align: middle;\n",
       "    }\n",
       "\n",
       "    .dataframe tbody tr th {\n",
       "        vertical-align: top;\n",
       "    }\n",
       "\n",
       "    .dataframe thead th {\n",
       "        text-align: right;\n",
       "    }\n",
       "</style>\n",
       "<table border=\"1\" class=\"dataframe\">\n",
       "  <thead>\n",
       "    <tr style=\"text-align: right;\">\n",
       "      <th></th>\n",
       "      <th>0</th>\n",
       "    </tr>\n",
       "  </thead>\n",
       "  <tbody>\n",
       "    <tr>\n",
       "      <th>review</th>\n",
       "      <td>Je trouve le goût médiocre. La mousse ne tient...</td>\n",
       "    </tr>\n",
       "    <tr>\n",
       "      <th>english_review</th>\n",
       "      <td>I find the taste mediocre. The foam doesn't ho...</td>\n",
       "    </tr>\n",
       "    <tr>\n",
       "      <th>language</th>\n",
       "      <td>French.</td>\n",
       "    </tr>\n",
       "    <tr>\n",
       "      <th>summary</th>\n",
       "      <td>The reviewer does not like the taste of the pr...</td>\n",
       "    </tr>\n",
       "    <tr>\n",
       "      <th>followup_response</th>\n",
       "      <td>Bonjour,\\n\\nNous sommes désolés d'apprendre qu...</td>\n",
       "    </tr>\n",
       "  </tbody>\n",
       "</table>\n",
       "</div>"
      ],
      "text/plain": [
       "                                                                   0\n",
       "review             Je trouve le goût médiocre. La mousse ne tient...\n",
       "english_review     I find the taste mediocre. The foam doesn't ho...\n",
       "language                                                     French.\n",
       "summary            The reviewer does not like the taste of the pr...\n",
       "followup_response  Bonjour,\\n\\nNous sommes désolés d'apprendre qu..."
      ]
     },
     "execution_count": 60,
     "metadata": {},
     "output_type": "execute_result"
    }
   ],
   "source": [
    "pd.DataFrame([response]).T"
   ]
  },
  {
   "cell_type": "markdown",
   "id": "c44faab6",
   "metadata": {},
   "source": [
    "## RouterChain"
   ]
  },
  {
   "cell_type": "code",
   "execution_count": 91,
   "id": "9adbfa6a",
   "metadata": {
    "height": 81
   },
   "outputs": [],
   "source": [
    "from langchain.chat_models import ChatOpenAI\n",
    "from langchain.prompts import ChatPromptTemplate, PromptTemplate\n",
    "from langchain.chains.router import MultiPromptChain\n",
    "from langchain.chains.router.llm_router import LLMRouterChain, RouterOutputParser"
   ]
  },
  {
   "cell_type": "markdown",
   "id": "2bcc66f3",
   "metadata": {},
   "source": [
    "### Define Template Prompts\n",
    "\n"
   ]
  },
  {
   "cell_type": "code",
   "execution_count": 92,
   "id": "a9d296e9",
   "metadata": {
    "height": 778
   },
   "outputs": [],
   "source": [
    "physics_template = \"\"\"You are a very smart physics professor. \\\n",
    "You are great at answering questions about physics in a concise\\\n",
    "and easy to understand manner. \\\n",
    "When you don't know the answer to a question you admit\\\n",
    "that you don't know.\n",
    "\n",
    "Here is a question:\n",
    "{input}\"\"\"\n",
    "\n",
    "\n",
    "math_template = \"\"\"You are a very good mathematician. \\\n",
    "You are great at answering math questions. \\\n",
    "You are so good because you are able to break down \\\n",
    "hard problems into their component parts, \n",
    "answer the component parts, and then put them together\\\n",
    "to answer the broader question.\n",
    "\n",
    "Here is a question:\n",
    "{input}\"\"\"\n",
    "\n",
    "history_template = \"\"\"You are a very good historian. \\\n",
    "You have an excellent knowledge of and understanding of people,\\\n",
    "events and contexts from a range of historical periods. \\\n",
    "You have the ability to think, reflect, debate, discuss and \\\n",
    "evaluate the past. You have a respect for historical evidence\\\n",
    "and the ability to make use of it to support your explanations \\\n",
    "and judgements.\n",
    "\n",
    "Here is a question:\n",
    "{input}\"\"\"\n",
    "\n",
    "\n",
    "computerscience_template = \"\"\" You are a successful computer scientist.\\\n",
    "You have a passion for creativity, collaboration,\\\n",
    "forward-thinking, confidence, strong problem-solving capabilities,\\\n",
    "understanding of theories and algorithms, and excellent communication \\\n",
    "skills. You are great at answering coding questions. \\\n",
    "You are so good because you know how to solve a problem by \\\n",
    "describing the solution in imperative steps \\\n",
    "that a machine can easily interpret and you know how to \\\n",
    "choose a solution that has a good balance between \\\n",
    "time complexity and space complexity. \n",
    "\n",
    "Here is a question:\n",
    "{input}\"\"\""
   ]
  },
  {
   "cell_type": "code",
   "execution_count": 93,
   "id": "f5a47514",
   "metadata": {
    "height": 387
   },
   "outputs": [],
   "source": [
    "prompt_infos = [\n",
    "    {\n",
    "        \"name\": \"physics\", \n",
    "        \"description\": \"Good for answering questions about physics\", \n",
    "        \"prompt_template\": physics_template\n",
    "    },\n",
    "    {\n",
    "        \"name\": \"math\", \n",
    "        \"description\": \"Good for answering math questions\", \n",
    "        \"prompt_template\": math_template\n",
    "    },\n",
    "    {\n",
    "        \"name\": \"history\", \n",
    "        \"description\": \"Good for answering history questions\", \n",
    "        \"prompt_template\": history_template\n",
    "    },\n",
    "    {\n",
    "        \"name\": \"computer science\", \n",
    "        \"description\": \"Good for answering computer science questions\", \n",
    "        \"prompt_template\": computerscience_template\n",
    "    }\n",
    "]"
   ]
  },
  {
   "cell_type": "markdown",
   "id": "77e62376",
   "metadata": {},
   "source": [
    "### Setup Destination Chains"
   ]
  },
  {
   "cell_type": "code",
   "execution_count": 94,
   "id": "a8f188f1",
   "metadata": {
    "height": 30
   },
   "outputs": [],
   "source": [
    "llm = ChatOpenAI(temperature=0.7, model=llm_model)"
   ]
  },
  {
   "cell_type": "code",
   "execution_count": 95,
   "id": "eb507030",
   "metadata": {
    "height": 183
   },
   "outputs": [
    {
     "name": "stdout",
     "output_type": "stream",
     "text": [
      "physics: Good for answering questions about physics\n",
      "math: Good for answering math questions\n",
      "history: Good for answering history questions\n",
      "computer science: Good for answering computer science questions\n"
     ]
    }
   ],
   "source": [
    "destination_chains = {}\n",
    "\n",
    "for info in prompt_infos:\n",
    "    name = info[\"name\"]\n",
    "    desc = info[\"description\"]\n",
    "    prompt = ChatPromptTemplate.from_template(info['prompt_template'])\n",
    "    destination_chains[name] = LLMChain(llm=llm, prompt=prompt)\n",
    "\n",
    "destination_prompt_str = '\\n'.join([f\"{info['name']}: {info['description']}\" for info in prompt_infos])\n",
    "print(destination_prompt_str)"
   ]
  },
  {
   "cell_type": "code",
   "execution_count": 96,
   "id": "5b220dc8",
   "metadata": {
    "height": 47
   },
   "outputs": [],
   "source": [
    "default_prompt = ChatPromptTemplate.from_template(\"{input}\")\n",
    "default_chain = LLMChain(llm=llm, prompt=default_prompt)"
   ]
  },
  {
   "cell_type": "code",
   "execution_count": 97,
   "id": "d2e1c952",
   "metadata": {
    "height": 30
   },
   "outputs": [],
   "source": [
    "llm = ChatOpenAI(temperature=0, model=llm_model)"
   ]
  },
  {
   "cell_type": "code",
   "execution_count": 98,
   "id": "b216e8e0",
   "metadata": {
    "height": 506
   },
   "outputs": [],
   "source": [
    "MULTI_PROMPT_ROUTER_TEMPLATE = \"\"\"Given a raw text input to a \\\n",
    "language model select the model prompt best suited for the input. \\\n",
    "You will be given the names of the available prompts and a \\\n",
    "description of what the prompt is best suited for. \\\n",
    "You may also revise the original input if you think that revising\\\n",
    "it will ultimately lead to a better response from the language model.\n",
    "\n",
    "<< FORMATTING >>\n",
    "Return a markdown code snippet with a JSON object formatted to look like:\n",
    "```json\n",
    "{{{{\n",
    "    \"destination\": string \\ name of the prompt to use or \"DEFAULT\"\n",
    "    \"next_inputs\": string \\ a potentially modified version of the original input\n",
    "}}}}\n",
    "```\n",
    "\n",
    "REMEMBER: \"destination\" MUST be one of the candidate prompt \\\n",
    "names specified below OR it can be \"DEFAULT\" if the input is not\\\n",
    "well suited for any of the candidate prompts.\n",
    "REMEMBER: \"next_inputs\" can just be the original input \\\n",
    "if you don't think any modifications are needed.\n",
    "\n",
    "<< CANDIDATE PROMPTS >>\n",
    "{destinations}\n",
    "\n",
    "<< INPUT >>\n",
    "{{input}}\n",
    "\n",
    "<< OUTPUT (remember to include the ```json)>>\"\"\""
   ]
  },
  {
   "cell_type": "code",
   "execution_count": 99,
   "id": "4d0d8360",
   "metadata": {
    "height": 200
   },
   "outputs": [],
   "source": [
    "router_template = MULTI_PROMPT_ROUTER_TEMPLATE.format(\n",
    "    destinations=destination_prompt_str\n",
    ")\n",
    "\n",
    "router_prompt = PromptTemplate(\n",
    "    template=router_template,\n",
    "    input_variables=[\"input\"],\n",
    "    output_parser=RouterOutputParser()\n",
    ")\n",
    "\n",
    "router_chain = LLMRouterChain.from_llm(llm, router_prompt)"
   ]
  },
  {
   "cell_type": "code",
   "execution_count": 100,
   "id": "fac9144b",
   "metadata": {
    "height": 115
   },
   "outputs": [],
   "source": [
    "chain = MultiPromptChain(\n",
    "    router_chain=router_chain,\n",
    "    destination_chains=destination_chains,\n",
    "    default_chain=default_chain,\n",
    "    verbose=True\n",
    ")"
   ]
  },
  {
   "cell_type": "code",
   "execution_count": 101,
   "id": "0271dda3",
   "metadata": {
    "height": 30
   },
   "outputs": [
    {
     "name": "stdout",
     "output_type": "stream",
     "text": [
      "\n",
      "\n",
      "\u001b[1m> Entering new MultiPromptChain chain...\u001b[0m\n",
      "physics: {'input': 'Explain the equation E=mc^2'}\n",
      "\u001b[1m> Finished chain.\u001b[0m\n"
     ]
    },
    {
     "data": {
      "text/plain": [
       "'The equation E=mc^2 is one of the most famous equations in physics, and it relates to the relationship between energy and mass. In this equation, E stands for energy, m stands for mass, and c stands for the speed of light. The equation states that energy and mass are interchangeable and can be converted from one to the other.\\n\\nSpecifically, the equation states that the energy (E) of an object is equal to its mass (m) times the speed of light (c) squared. This means that even a small amount of mass can contain a huge amount of energy, as the speed of light is a very large number. \\n\\nThis equation was first proposed by Albert Einstein in his theory of special relativity and has been confirmed through numerous experiments and observations since then. It has important implications for nuclear physics and the study of the universe as a whole.'"
      ]
     },
     "execution_count": 101,
     "metadata": {},
     "output_type": "execute_result"
    }
   ],
   "source": [
    "chain.run(\"Explain E=mc^2\")"
   ]
  },
  {
   "cell_type": "code",
   "execution_count": 102,
   "id": "75d62da4",
   "metadata": {
    "height": 30
   },
   "outputs": [
    {
     "name": "stdout",
     "output_type": "stream",
     "text": [
      "\n",
      "\n",
      "\u001b[1m> Entering new MultiPromptChain chain...\u001b[0m\n",
      "math: {'input': 'What is 5 + 5'}\n",
      "\u001b[1m> Finished chain.\u001b[0m\n"
     ]
    },
    {
     "data": {
      "text/plain": [
       "{'input': 'What is 5 + 5', 'text': 'The answer to 5 + 5 is 10.'}"
      ]
     },
     "execution_count": 102,
     "metadata": {},
     "output_type": "execute_result"
    }
   ],
   "source": [
    "chain(\"What is 5 + 5\")"
   ]
  },
  {
   "cell_type": "code",
   "execution_count": 103,
   "id": "51639be4",
   "metadata": {
    "height": 30
   },
   "outputs": [
    {
     "name": "stdout",
     "output_type": "stream",
     "text": [
      "\n",
      "\n",
      "\u001b[1m> Entering new MultiPromptChain chain...\u001b[0m\n",
      "None: {'input': 'What is the role of the pineal gland in human body?'}\n",
      "\u001b[1m> Finished chain.\u001b[0m\n"
     ]
    },
    {
     "data": {
      "text/plain": [
       "{'input': 'What is the role of the pineal gland in human body?',\n",
       " 'text': \"The pineal gland is a small endocrine gland located in the brain that produces and secretes the hormone melatonin. Melatonin plays a role in regulating the body's natural sleep-wake cycle (circadian rhythm) and is involved in the regulation of several physiological processes, including mood, immune function, and reproductive function. The pineal gland also has a role in regulating the body's response to light and is involved in the production of serotonin, a neurotransmitter that plays a role in mood regulation. Some studies suggest that the pineal gland may also play a role in the regulation of aging and longevity.\"}"
      ]
     },
     "execution_count": 103,
     "metadata": {},
     "output_type": "execute_result"
    }
   ],
   "source": [
    "chain(\"What is the role of the pineal gland in human body?\")"
   ]
  },
  {
   "cell_type": "code",
   "execution_count": 104,
   "id": "e22241f5",
   "metadata": {
    "height": 30
   },
   "outputs": [
    {
     "name": "stdout",
     "output_type": "stream",
     "text": [
      "\n",
      "\n",
      "\u001b[1m> Entering new MultiPromptChain chain...\u001b[0m\n",
      "computer science: {'input': 'Explain transformer neural networks in the context of natural language processing'}\n",
      "\u001b[1m> Finished chain.\u001b[0m\n"
     ]
    },
    {
     "data": {
      "text/plain": [
       "{'input': 'Explain transformer neural networks in the context of natural language processing',\n",
       " 'text': 'Transformer neural networks are a type of neural network architecture that has been widely used in natural language processing tasks. They were first introduced in a 2017 paper by Vaswani et al. and have since become one of the most popular approaches to NLP.\\n\\nThe key innovation of transformer neural networks is the use of self-attention mechanisms. In traditional neural networks, each input token is processed independently and sequentially, which can be computationally expensive and make it difficult to capture long-range dependencies between tokens.\\n\\nHowever, in a transformer network, each input token is processed simultaneously, with attention weights assigned to each token based on its relationships with other tokens in the sequence. This allows the network to effectively capture global dependencies between tokens, leading to improved performance on tasks such as machine translation, language modeling, and text classification.\\n\\nTransformer networks have also been used to generate natural language text, such as in the popular GPT-2 language model. By training on large amounts of text data, these models are able to generate coherent and realistic text that can be used for a variety of applications, such as chatbots and content generation.\\n\\nOverall, transformer networks represent a powerful tool for natural language processing tasks, thanks to their ability to capture global dependencies and generate high-quality text.'}"
      ]
     },
     "execution_count": 104,
     "metadata": {},
     "output_type": "execute_result"
    }
   ],
   "source": [
    "chain(\"Explain transformer neural networks\")"
   ]
  },
  {
   "cell_type": "code",
   "execution_count": null,
   "id": "9f3535f6",
   "metadata": {},
   "outputs": [],
   "source": []
  }
 ],
 "metadata": {
  "kernelspec": {
   "display_name": "Python 3 (ipykernel)",
   "language": "python",
   "name": "python3"
  },
  "language_info": {
   "codemirror_mode": {
    "name": "ipython",
    "version": 3
   },
   "file_extension": ".py",
   "mimetype": "text/x-python",
   "name": "python",
   "nbconvert_exporter": "python",
   "pygments_lexer": "ipython3",
   "version": "3.9.7"
  }
 },
 "nbformat": 4,
 "nbformat_minor": 5
}

{
 "cells": [
  {
   "cell_type": "markdown",
   "id": "370fc57d",
   "metadata": {
    "height": 30
   },
   "source": [
    "# Langchain: Q&A over Documents"
   ]
  },
  {
   "cell_type": "code",
   "execution_count": 2,
   "id": "54860fdb",
   "metadata": {
    "height": 81
   },
   "outputs": [],
   "source": [
    "import os\n",
    "\n",
    "from dotenv import load_dotenv, find_dotenv\n",
    "_ = load_dotenv(find_dotenv()) # read local .env file"
   ]
  },
  {
   "cell_type": "code",
   "execution_count": 3,
   "id": "5ad2066c",
   "metadata": {
    "height": 234
   },
   "outputs": [],
   "source": [
    "# account for deprecation of LLM model\n",
    "import datetime\n",
    "# Get the current date\n",
    "current_date = datetime.datetime.now().date()\n",
    "\n",
    "# Define the date after which the model should be set to \"gpt-3.5-turbo\"\n",
    "target_date = datetime.date(2024, 6, 12)\n",
    "\n",
    "# Set the model variable based on the current date\n",
    "if current_date > target_date:\n",
    "    llm_model = \"gpt-3.5-turbo\"\n",
    "else:\n",
    "    llm_model = \"gpt-3.5-turbo-0301\""
   ]
  },
  {
   "cell_type": "markdown",
   "id": "d46d62fe",
   "metadata": {},
   "source": [
    "## Vector Store"
   ]
  },
  {
   "cell_type": "code",
   "execution_count": 4,
   "id": "de448ab6",
   "metadata": {
    "height": 98
   },
   "outputs": [],
   "source": [
    "from langchain.document_loaders import CSVLoader\n",
    "from langchain.vectorstores import DocArrayInMemorySearch\n",
    "from langchain.indexes import VectorstoreIndexCreator\n",
    "\n",
    "from IPython.display import display, Markdown"
   ]
  },
  {
   "cell_type": "code",
   "execution_count": 5,
   "id": "67abab6d",
   "metadata": {
    "height": 47
   },
   "outputs": [],
   "source": [
    "fpath = '../data/OutdoorClothingCatalog_1000.csv'\n",
    "loader = CSVLoader(fpath)"
   ]
  },
  {
   "cell_type": "markdown",
   "id": "05f40cfe",
   "metadata": {},
   "source": [
    "Default embedding = `OpenAIEmbedding`"
   ]
  },
  {
   "cell_type": "code",
   "execution_count": 45,
   "id": "2bf1b861",
   "metadata": {
    "height": 64
   },
   "outputs": [],
   "source": [
    "index = VectorstoreIndexCreator(\n",
    "    vectorstore_cls=DocArrayInMemorySearch,\n",
    ").from_loaders([loader])"
   ]
  },
  {
   "cell_type": "code",
   "execution_count": 47,
   "id": "d13dd2a3",
   "metadata": {
    "height": 30
   },
   "outputs": [
    {
     "data": {
      "text/plain": [
       "OpenAIEmbeddings(client=<class 'openai.api_resources.embedding.Embedding'>, model='text-embedding-ada-002', deployment='text-embedding-ada-002', openai_api_version=None, openai_api_base=None, openai_api_type=None, embedding_ctx_length=8191, openai_api_key=None, openai_organization=None, allowed_special=set(), disallowed_special='all', chunk_size=1000, max_retries=6, request_timeout=None, headers=None)"
      ]
     },
     "execution_count": 47,
     "metadata": {},
     "output_type": "execute_result"
    }
   ],
   "source": [
    "index.vectorstore.embedding"
   ]
  },
  {
   "cell_type": "code",
   "execution_count": 7,
   "id": "6c0ad6df",
   "metadata": {
    "height": 47
   },
   "outputs": [],
   "source": [
    "query = \"Please list all your shirts with sun protection \\\n",
    "in a table in markdown and summarize each one.\""
   ]
  },
  {
   "cell_type": "markdown",
   "id": "7864556f",
   "metadata": {},
   "source": [
    "Default llm for query = `ChatOpenAI`"
   ]
  },
  {
   "cell_type": "code",
   "execution_count": 8,
   "id": "e84b3502",
   "metadata": {
    "height": 30
   },
   "outputs": [],
   "source": [
    "response = index.query(query)"
   ]
  },
  {
   "cell_type": "code",
   "execution_count": 9,
   "id": "37f6e475",
   "metadata": {
    "height": 30
   },
   "outputs": [
    {
     "data": {
      "text/markdown": [
       "\n",
       "\n",
       "| Name | Description |\n",
       "| --- | --- |\n",
       "| Men's Tropical Plaid Short-Sleeve Shirt | UPF 50+ rated, 100% polyester, wrinkle-resistant, front and back cape venting, two front bellows pockets |\n",
       "| Men's Plaid Tropic Shirt, Short-Sleeve | UPF 50+ rated, 52% polyester and 48% nylon, machine washable and dryable, front and back cape venting, two front bellows pockets |\n",
       "| Men's TropicVibe Shirt, Short-Sleeve | UPF 50+ rated, 71% Nylon, 29% Polyester, 100% Polyester knit mesh, wrinkle resistant, front and back cape venting, two front bellows pockets |\n",
       "| Sun Shield Shirt by | UPF 50+ rated, 78% nylon, 22% Lycra Xtra Life fiber, wicks moisture, fits comfortably over swimsuit, abrasion resistant |\n",
       "\n",
       "All four shirts provide UPF 50+ sun protection, blocking 98% of the sun's harmful rays. The Men's Tropical Plaid Short-Sleeve Shirt is made of 100% polyester and is wrinkle-resistant. The Men's Plaid Trop"
      ],
      "text/plain": [
       "<IPython.core.display.Markdown object>"
      ]
     },
     "metadata": {},
     "output_type": "display_data"
    }
   ],
   "source": [
    "display(Markdown(response))"
   ]
  },
  {
   "cell_type": "markdown",
   "id": "aa6e62e6",
   "metadata": {},
   "source": [
    "## Step by Step"
   ]
  },
  {
   "cell_type": "markdown",
   "id": "22b6912f",
   "metadata": {},
   "source": [
    "### Load the documents"
   ]
  },
  {
   "cell_type": "code",
   "execution_count": 10,
   "id": "91e3d4ca",
   "metadata": {
    "height": 30
   },
   "outputs": [],
   "source": [
    "from langchain.document_loaders import CSVLoader"
   ]
  },
  {
   "cell_type": "code",
   "execution_count": 11,
   "id": "51106b76",
   "metadata": {
    "height": 47
   },
   "outputs": [],
   "source": [
    "fpath = '../data/OutdoorClothingCatalog_1000.csv'\n",
    "loader = CSVLoader(fpath)"
   ]
  },
  {
   "cell_type": "code",
   "execution_count": 12,
   "id": "eabbe368",
   "metadata": {
    "height": 30
   },
   "outputs": [],
   "source": [
    "docs = loader.load()"
   ]
  },
  {
   "cell_type": "code",
   "execution_count": 13,
   "id": "e172421a",
   "metadata": {
    "height": 30
   },
   "outputs": [
    {
     "data": {
      "text/plain": [
       "list"
      ]
     },
     "execution_count": 13,
     "metadata": {},
     "output_type": "execute_result"
    }
   ],
   "source": [
    "type(docs)"
   ]
  },
  {
   "cell_type": "code",
   "execution_count": 14,
   "id": "e1295d80",
   "metadata": {
    "height": 30
   },
   "outputs": [
    {
     "data": {
      "text/plain": [
       "langchain.schema.Document"
      ]
     },
     "execution_count": 14,
     "metadata": {},
     "output_type": "execute_result"
    }
   ],
   "source": [
    "type(docs[0])"
   ]
  },
  {
   "cell_type": "markdown",
   "id": "78ed8c33",
   "metadata": {},
   "source": [
    "### Embed documents"
   ]
  },
  {
   "cell_type": "code",
   "execution_count": 15,
   "id": "689eaaec",
   "metadata": {
    "height": 30
   },
   "outputs": [],
   "source": [
    "from langchain.embeddings import OpenAIEmbeddings"
   ]
  },
  {
   "cell_type": "code",
   "execution_count": 16,
   "id": "dcab1de4",
   "metadata": {
    "height": 30
   },
   "outputs": [],
   "source": [
    "embeddings = OpenAIEmbeddings()"
   ]
  },
  {
   "cell_type": "code",
   "execution_count": 17,
   "id": "f245023e",
   "metadata": {
    "height": 30
   },
   "outputs": [],
   "source": [
    "embed = embeddings.embed_query(\"Hi my name is Abhishek!\")"
   ]
  },
  {
   "cell_type": "code",
   "execution_count": 18,
   "id": "d364cddb",
   "metadata": {
    "height": 30
   },
   "outputs": [
    {
     "name": "stdout",
     "output_type": "stream",
     "text": [
      "1536\n"
     ]
    }
   ],
   "source": [
    "print(len(embed))"
   ]
  },
  {
   "cell_type": "code",
   "execution_count": 19,
   "id": "e18986ae",
   "metadata": {
    "height": 30
   },
   "outputs": [
    {
     "data": {
      "text/plain": [
       "[-0.010168172419071198,\n",
       " -0.007905704900622368,\n",
       " -0.012340139597654343,\n",
       " -0.025197414681315422,\n",
       " -0.0313383974134922]"
      ]
     },
     "execution_count": 19,
     "metadata": {},
     "output_type": "execute_result"
    }
   ],
   "source": [
    "embed[:5]"
   ]
  },
  {
   "cell_type": "markdown",
   "id": "116fa773",
   "metadata": {},
   "source": [
    "### Create a Vector DB"
   ]
  },
  {
   "cell_type": "code",
   "execution_count": 25,
   "id": "b96e0ccf",
   "metadata": {
    "height": 30
   },
   "outputs": [],
   "source": [
    "from langchain.vectorstores import DocArrayInMemorySearch"
   ]
  },
  {
   "cell_type": "code",
   "execution_count": 20,
   "id": "6819ebe6",
   "metadata": {
    "height": 81
   },
   "outputs": [],
   "source": [
    "db = DocArrayInMemorySearch.from_documents(\n",
    "    docs,\n",
    "    embeddings\n",
    ")"
   ]
  },
  {
   "cell_type": "markdown",
   "id": "0b569b96",
   "metadata": {
    "height": 30
   },
   "source": [
    "### Find Similar documents to query"
   ]
  },
  {
   "cell_type": "code",
   "execution_count": 21,
   "id": "34d2236a",
   "metadata": {
    "height": 30
   },
   "outputs": [],
   "source": [
    "query = \"Please suggest shirts with sunblocking\""
   ]
  },
  {
   "cell_type": "code",
   "execution_count": 22,
   "id": "d17ea416",
   "metadata": {
    "height": 30
   },
   "outputs": [],
   "source": [
    "docs = db.similarity_search(query)"
   ]
  },
  {
   "cell_type": "code",
   "execution_count": 24,
   "id": "75a18428",
   "metadata": {
    "height": 30
   },
   "outputs": [
    {
     "data": {
      "text/plain": [
       "4"
      ]
     },
     "execution_count": 24,
     "metadata": {},
     "output_type": "execute_result"
    }
   ],
   "source": [
    "len(docs)"
   ]
  },
  {
   "cell_type": "markdown",
   "id": "0d346819",
   "metadata": {},
   "source": [
    "### Pass All documents to LLM"
   ]
  },
  {
   "cell_type": "code",
   "execution_count": 27,
   "id": "6aacf45e",
   "metadata": {
    "height": 30
   },
   "outputs": [],
   "source": [
    "from langchain.chat_models import ChatOpenAI"
   ]
  },
  {
   "cell_type": "code",
   "execution_count": 28,
   "id": "e8e1a98c",
   "metadata": {
    "height": 30
   },
   "outputs": [],
   "source": [
    "llm = ChatOpenAI(model=llm_model, temperature=0)"
   ]
  },
  {
   "cell_type": "code",
   "execution_count": 29,
   "id": "967b1119",
   "metadata": {
    "height": 30
   },
   "outputs": [],
   "source": [
    "qdocs = \"\".join([doc.page_content for doc in docs])"
   ]
  },
  {
   "cell_type": "code",
   "execution_count": 30,
   "id": "5892bc97",
   "metadata": {
    "height": 149
   },
   "outputs": [],
   "source": [
    "prompt = f\"\"\"\n",
    "From the following info:\n",
    "\n",
    "{qdocs}\n",
    "\n",
    "Question: Please list all your shirts with sun protection \\\n",
    "in a table in markdown and summarize each one.\n",
    "\"\"\""
   ]
  },
  {
   "cell_type": "code",
   "execution_count": 33,
   "id": "8ed5d05c",
   "metadata": {
    "height": 30
   },
   "outputs": [],
   "source": [
    "response = llm.call_as_llm(prompt)"
   ]
  },
  {
   "cell_type": "code",
   "execution_count": 34,
   "id": "521c760d",
   "metadata": {
    "height": 30
   },
   "outputs": [
    {
     "data": {
      "text/markdown": [
       "| Shirt Name | Description |\n",
       "| --- | --- |\n",
       "| Sun Shield Shirt | High-performance sun shirt with UPF 50+ sun protection, made of 78% nylon and 22% Lycra Xtra Life fiber. Wicks moisture for quick-drying comfort and fits comfortably over swimsuits. Abrasion-resistant and recommended by The Skin Cancer Foundation. |\n",
       "| Men's Plaid Tropic Shirt | Ultracomfortable shirt with UPF 50+ sun protection, made of 52% polyester and 48% nylon. Wrinkle-free and quickly evaporates perspiration. Features front and back cape venting and two front bellows pockets. |\n",
       "| Men's TropicVibe Shirt | Men's sun-protection shirt with built-in UPF 50+ made of 71% Nylon and 29% Polyester. Wrinkle-resistant with front and back cape venting and two front bellows pockets. |\n",
       "| Men's Tropical Plaid Short-Sleeve Shirt | Lightest hot-weather shirt with UPF 50+ sun protection, made of 100% polyester. Traditional fit that is relaxed through the chest, sleeve, and waist. Features front and back cape venting and two front bellows pockets. |\n",
       "\n",
       "The Sun Shield Shirt is a high-performance sun shirt made of nylon and Lycra Xtra Life fiber with UPF 50+ sun protection. The Men's Plaid Tropic Shirt is ultracomfortable with UPF 50+ sun protection and features front and back cape venting and two front bellows pockets. The Men's TropicVibe Shirt is a sun-protection shirt with built-in UPF 50+ and front and back cape venting. The Men's Tropical Plaid Short-Sleeve Shirt is the lightest hot-weather shirt with UPF 50+ sun protection and features front and back cape venting and two front bellows pockets."
      ],
      "text/plain": [
       "<IPython.core.display.Markdown object>"
      ]
     },
     "metadata": {},
     "output_type": "display_data"
    }
   ],
   "source": [
    "display(Markdown(response))"
   ]
  },
  {
   "cell_type": "markdown",
   "id": "801c47ef",
   "metadata": {},
   "source": [
    "## RetrievalQA"
   ]
  },
  {
   "cell_type": "code",
   "execution_count": 36,
   "id": "2d174726",
   "metadata": {
    "height": 47
   },
   "outputs": [],
   "source": [
    "from langchain.chains import RetrievalQA\n",
    "from langchain.chat_models import ChatOpenAI"
   ]
  },
  {
   "cell_type": "code",
   "execution_count": 37,
   "id": "f227f33a",
   "metadata": {
    "height": 30
   },
   "outputs": [],
   "source": [
    "llm = ChatOpenAI(model=llm_model, temperature=0.0)"
   ]
  },
  {
   "cell_type": "code",
   "execution_count": 38,
   "id": "daa957d2",
   "metadata": {
    "height": 30
   },
   "outputs": [],
   "source": [
    "retriever = db.as_retriever()"
   ]
  },
  {
   "cell_type": "code",
   "execution_count": 39,
   "id": "7f48bf51",
   "metadata": {
    "height": 115
   },
   "outputs": [],
   "source": [
    "qa_stuff = RetrievalQA.from_chain_type(\n",
    "    llm=llm,\n",
    "    chain_type=\"stuff\",\n",
    "    retriever=retriever,\n",
    "    verbose=True\n",
    ")"
   ]
  },
  {
   "cell_type": "code",
   "execution_count": 40,
   "id": "656edc88",
   "metadata": {
    "height": 64
   },
   "outputs": [],
   "source": [
    "query = \"\"\"Question: Please list all your shirts with sun protection \\\n",
    "in a table in markdown and summarize each one.\"\"\"\n"
   ]
  },
  {
   "cell_type": "code",
   "execution_count": 41,
   "id": "359f5f8d",
   "metadata": {
    "height": 30
   },
   "outputs": [
    {
     "name": "stdout",
     "output_type": "stream",
     "text": [
      "\n",
      "\n",
      "\u001b[1m> Entering new RetrievalQA chain...\u001b[0m\n",
      "\n",
      "\u001b[1m> Finished chain.\u001b[0m\n"
     ]
    }
   ],
   "source": [
    "response = qa_stuff.run(query)"
   ]
  },
  {
   "cell_type": "code",
   "execution_count": 43,
   "id": "835e1b19",
   "metadata": {
    "height": 30
   },
   "outputs": [
    {
     "data": {
      "text/markdown": [
       "| Shirt Name | Description |\n",
       "| --- | --- |\n",
       "| Men's Tropical Plaid Short-Sleeve Shirt | Rated UPF 50+ for superior protection from the sun's UV rays. Made of 100% polyester and is wrinkle-resistant. With front and back cape venting that lets in cool breezes and two front bellows pockets. Provides the highest rated sun protection possible. |\n",
       "| Men's Plaid Tropic Shirt, Short-Sleeve | Rated to UPF 50+, helping you stay cool and dry. Made with 52% polyester and 48% nylon, this shirt is machine washable and dryable. Additional features include front and back cape venting, two front bellows pockets and an imported design. With UPF 50+ coverage, you can limit sun exposure and feel secure with the highest rated sun protection available. |\n",
       "| Sun Shield Shirt by | High-performance sun shirt is guaranteed to protect from harmful UV rays. Made of 78% nylon, 22% Lycra Xtra Life fiber. UPF 50+ rated – the highest rated sun protection possible. Wicks moisture for quick-drying comfort. Fits comfortably over your favorite swimsuit. Abrasion-resistant for season after season of wear. |\n",
       "| Men's TropicVibe Shirt, Short-Sleeve | Sun-protection shirt with built-in UPF 50+. Made of 71% Nylon, 29% Polyester. Lining: 100% Polyester knit mesh. Machine wash and dry. Additional features include wrinkle resistance, front and back cape venting, and two front bellows pockets. Provides the highest rated sun protection possible. |\n",
       "\n",
       "All of the shirts listed provide UPF 50+ sun protection, blocking 98% of the sun's harmful rays. The Men's Tropical Plaid Short-Sleeve Shirt and Men's Plaid Tropic Shirt, Short-Sleeve are both made of wrinkle-resistant fabric and have front and back cape venting and two front bellows pockets. The Sun Shield Shirt by is made of nylon and Lycra Xtra Life fiber and is abrasion-resistant. The Men's TropicVibe Shirt, Short-Sleeve is made of nylon and polyester and is wrinkle-resistant with front and back cape venting and two front bellows pockets."
      ],
      "text/plain": [
       "<IPython.core.display.Markdown object>"
      ]
     },
     "metadata": {},
     "output_type": "display_data"
    }
   ],
   "source": [
    "display(Markdown(response))"
   ]
  }
 ],
 "metadata": {
  "kernelspec": {
   "display_name": "Python 3 (ipykernel)",
   "language": "python",
   "name": "python3"
  },
  "language_info": {
   "codemirror_mode": {
    "name": "ipython",
    "version": 3
   },
   "file_extension": ".py",
   "mimetype": "text/x-python",
   "name": "python",
   "nbconvert_exporter": "python",
   "pygments_lexer": "ipython3",
   "version": "3.9.17"
  }
 },
 "nbformat": 4,
 "nbformat_minor": 5
}
